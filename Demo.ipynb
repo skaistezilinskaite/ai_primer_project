{
 "cells": [
  {
   "cell_type": "markdown",
   "id": "8ceb7b8f",
   "metadata": {},
   "source": [
    "# A quick Flatland evaluation demo\n",
    "\n",
    "First let's train and save our model."
   ]
  },
  {
   "cell_type": "code",
   "execution_count": 23,
   "id": "9f14bc5d",
   "metadata": {},
   "outputs": [],
   "source": [
    "import gzip\n",
    "import pickle\n",
    "import numpy as np\n",
    "from tensorflow import keras"
   ]
  },
  {
   "cell_type": "code",
   "execution_count": 24,
   "id": "7064b8f3",
   "metadata": {},
   "outputs": [],
   "source": [
    "path = 'flatland_train.data'\n",
    "X, y = pickle.load(gzip.open(path, 'rb'))\n",
    "\n",
    "y[y != 0] -= 2     # Fix labels to run from 0 to 4\n",
    "X = X / 255.       # Scale input to range [0, 1]"
   ]
  },
  {
   "cell_type": "code",
   "execution_count": 25,
   "id": "a06fa461",
   "metadata": {},
   "outputs": [
    {
     "name": "stdout",
     "output_type": "stream",
     "text": [
      "Epoch 1/10\n",
      " 36/313 [==>...........................] - ETA: 1s - loss: 1.5805"
     ]
    },
    {
     "name": "stderr",
     "output_type": "stream",
     "text": [
      "2021-11-30 19:11:53.641726: I tensorflow/core/grappler/optimizers/custom_graph_optimizer_registry.cc:112] Plugin optimizer for device_type GPU is enabled.\n"
     ]
    },
    {
     "name": "stdout",
     "output_type": "stream",
     "text": [
      "313/313 [==============================] - 1s 4ms/step - loss: 1.3667\n",
      "Epoch 2/10\n",
      "313/313 [==============================] - 1s 4ms/step - loss: 1.1554\n",
      "Epoch 3/10\n",
      "313/313 [==============================] - 1s 4ms/step - loss: 1.0339\n",
      "Epoch 4/10\n",
      "313/313 [==============================] - 1s 4ms/step - loss: 0.9381\n",
      "Epoch 5/10\n",
      "313/313 [==============================] - 1s 4ms/step - loss: 0.8635\n",
      "Epoch 6/10\n",
      "313/313 [==============================] - 1s 4ms/step - loss: 0.8070\n",
      "Epoch 7/10\n",
      "313/313 [==============================] - 1s 4ms/step - loss: 0.7598\n",
      "Epoch 8/10\n",
      "313/313 [==============================] - 1s 4ms/step - loss: 0.7264\n",
      "Epoch 9/10\n",
      "313/313 [==============================] - 1s 4ms/step - loss: 0.6930\n",
      "Epoch 10/10\n",
      "313/313 [==============================] - 1s 4ms/step - loss: 0.6658\n"
     ]
    }
   ],
   "source": [
    "model = keras.models.Sequential()\n",
    "# Any pre-processing/re-shaping should be implemented using keras\n",
    "model.add(keras.layers.Flatten(input_shape=[50, 50]))\n",
    "model.add(keras.layers.Dense(20, activation='relu'))\n",
    "model.add(keras.layers.Dense(5, activation='softmax'))\n",
    "model.compile(loss='sparse_categorical_crossentropy')\n",
    "\n",
    "model.fit(X, y, epochs=10)\n",
    "model.save('model.h5')"
   ]
  },
  {
   "cell_type": "markdown",
   "id": "cbebf10f",
   "metadata": {},
   "source": [
    "Now we can use evaluation function to check if model is legit."
   ]
  },
  {
   "cell_type": "code",
   "execution_count": 26,
   "id": "ed495edd",
   "metadata": {},
   "outputs": [
    {
     "data": {
      "text/plain": [
       "0.728"
      ]
     },
     "execution_count": 26,
     "metadata": {},
     "output_type": "execute_result"
    }
   ],
   "source": [
    "def evaluate(path, model):\n",
    "    X, y = pickle.load(gzip.open(path, 'rb'))\n",
    "    y[y != 0] -= 2\n",
    "    X = X / 255.\n",
    "    acc = np.mean(model(X).numpy().argmax(axis=1) == y)\n",
    "    return acc\n",
    "\n",
    "model = keras.models.load_model('model.h5')\n",
    "evaluate('flatland_train.data', model)"
   ]
  },
  {
   "cell_type": "markdown",
   "id": "a50365c7",
   "metadata": {},
   "source": [
    "For your submission create a new [github](https://github.com/) repo and upload code/notebooks and final model (.h5 file). Next try to go to the link [flatland evaluation](https://us-central1-aiprimer.cloudfunctions.net/flatland) and you should see message 'Welcome to Flatland!'. This means that evaluation service is running and you can submit your own model by calling `https://us-central1-aiprimer.cloudfunctions.net/flatland?model_link=[PATH TO YOUR .h5]` (be patient, it can take a while)."
   ]
  }
 ],
 "metadata": {
  "kernelspec": {
   "display_name": "Python 3 (ipykernel)",
   "language": "python",
   "name": "python3"
  },
  "language_info": {
   "codemirror_mode": {
    "name": "ipython",
    "version": 3
   },
   "file_extension": ".py",
   "mimetype": "text/x-python",
   "name": "python",
   "nbconvert_exporter": "python",
   "pygments_lexer": "ipython3",
   "version": "3.9.6"
  }
 },
 "nbformat": 4,
 "nbformat_minor": 5
}
